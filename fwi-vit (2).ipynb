{
 "cells": [
  {
   "cell_type": "code",
   "execution_count": 1,
   "id": "4ac04609",
   "metadata": {
    "execution": {
     "iopub.execute_input": "2025-05-03T23:49:05.620516Z",
     "iopub.status.busy": "2025-05-03T23:49:05.620297Z",
     "iopub.status.idle": "2025-05-03T23:49:10.794119Z",
     "shell.execute_reply": "2025-05-03T23:49:10.793496Z"
    },
    "papermill": {
     "duration": 5.178685,
     "end_time": "2025-05-03T23:49:10.795492",
     "exception": false,
     "start_time": "2025-05-03T23:49:05.616807",
     "status": "completed"
    },
    "tags": []
   },
   "outputs": [],
   "source": [
    "import torch\n",
    "import torch.nn as nn\n",
    "import torch.nn.functional as F\n",
    "from torch.utils.data import Dataset, DataLoader\n",
    "import numpy as np\n",
    "from pathlib import Path\n",
    "import csv\n",
    "from tqdm import tqdm\n",
    "from sklearn.model_selection import train_test_split\n",
    "from tqdm import tqdm\n",
    "import matplotlib.pyplot as plt"
   ]
  },
  {
   "cell_type": "code",
   "execution_count": 2,
   "id": "4f507fc0",
   "metadata": {
    "execution": {
     "iopub.execute_input": "2025-05-03T23:49:10.801393Z",
     "iopub.status.busy": "2025-05-03T23:49:10.801108Z",
     "iopub.status.idle": "2025-05-03T23:49:11.794529Z",
     "shell.execute_reply": "2025-05-03T23:49:11.793749Z"
    },
    "papermill": {
     "duration": 0.997497,
     "end_time": "2025-05-03T23:49:11.795724",
     "exception": false,
     "start_time": "2025-05-03T23:49:10.798227",
     "status": "completed"
    },
    "tags": []
   },
   "outputs": [
    {
     "name": "stderr",
     "output_type": "stream",
     "text": [
      "scanning label files: 100%|██████████| 10/10 [00:00<00:00, 10.93it/s]"
     ]
    },
    {
     "name": "stdout",
     "output_type": "stream",
     "text": [
      "Global label_min=1500.00 | label_max=4500.00\n"
     ]
    },
    {
     "name": "stderr",
     "output_type": "stream",
     "text": [
      "\n"
     ]
    }
   ],
   "source": [
    "all_inputs = [\n",
    "    f\n",
    "    for f in\n",
    "    Path('/kaggle/input/waveform-inversion/train_samples').rglob('*.npy')\n",
    "    if ('seis' in f.stem) or ('data' in f.stem)\n",
    "]\n",
    "\n",
    "def inputs_files_to_output_files(input_files):\n",
    "    return [\n",
    "        Path(str(f).replace('seis', 'vel').replace('data', 'model'))\n",
    "        for f in input_files\n",
    "    ]\n",
    "\n",
    "all_outputs = inputs_files_to_output_files(all_inputs)\n",
    "\n",
    "assert all(f.exists() for f in all_outputs)\n",
    "\n",
    "train_inputs = [all_inputs[i] for i in range(0, len(all_inputs), 2)] # Sample every two\n",
    "valid_inputs = [f for f in all_inputs if not f in train_inputs]\n",
    "\n",
    "train_outputs = inputs_files_to_output_files(train_inputs)\n",
    "valid_outputs = inputs_files_to_output_files(valid_inputs)\n",
    "\n",
    "def get_global_min_max(label_files):\n",
    "    mins, maxs = [], []\n",
    "    for f in tqdm(label_files, desc=\"scanning label files\"):\n",
    "        arr = np.load(f, mmap_mode=\"r\")\n",
    "        mins.append(arr.min())\n",
    "        maxs.append(arr.max())\n",
    "    return float(np.min(mins)), float(np.max(maxs))\n",
    "\n",
    "label_min, label_max = get_global_min_max(train_outputs)\n",
    "print(f\"Global label_min={label_min:.2f} | label_max={label_max:.2f}\")\n",
    "\n",
    "class SeismicDataset(Dataset):\n",
    "    def __init__(self, inputs_files, output_files, n_examples_per_file=500,label_min=None, label_max=None):\n",
    "        assert len(inputs_files) == len(output_files)\n",
    "        self.inputs_files = inputs_files\n",
    "        self.output_files = output_files\n",
    "        self.n_examples_per_file = n_examples_per_file\n",
    "        self.label_min = label_min\n",
    "        self.label_scale = label_max - label_min\n",
    "\n",
    "    def __len__(self):\n",
    "        return len(self.inputs_files) * self.n_examples_per_file\n",
    "\n",
    "    def __getitem__(self, idx):\n",
    "        # Calculate file offset and sample offset within file\n",
    "        file_idx = idx // self.n_examples_per_file\n",
    "        sample_idx = idx % self.n_examples_per_file\n",
    "\n",
    "        X = np.load(self.inputs_files[file_idx], mmap_mode='r')\n",
    "        y = np.load(self.output_files[file_idx], mmap_mode='r')\n",
    "\n",
    "        # map label to [-1,1] \n",
    "        y = 2.0 * (y - self.label_min) / self.label_scale - 1.0\n",
    "\n",
    "        try:\n",
    "            return X[sample_idx].copy(), y[sample_idx].copy()\n",
    "        finally:\n",
    "            del X, y"
   ]
  },
  {
   "cell_type": "code",
   "execution_count": 3,
   "id": "31db1c9e",
   "metadata": {
    "execution": {
     "iopub.execute_input": "2025-05-03T23:49:11.801999Z",
     "iopub.status.busy": "2025-05-03T23:49:11.801741Z",
     "iopub.status.idle": "2025-05-03T23:49:11.805789Z",
     "shell.execute_reply": "2025-05-03T23:49:11.805269Z"
    },
    "papermill": {
     "duration": 0.008131,
     "end_time": "2025-05-03T23:49:11.806777",
     "exception": false,
     "start_time": "2025-05-03T23:49:11.798646",
     "status": "completed"
    },
    "tags": []
   },
   "outputs": [],
   "source": [
    "dstrain = SeismicDataset(train_inputs, train_outputs,label_min=label_min, label_max=label_max)\n",
    "dsvalid = SeismicDataset(valid_inputs, valid_outputs,label_min=label_min, label_max=label_max)\n",
    "\n",
    "train_loader = DataLoader(dstrain, batch_size=8, shuffle=True, num_workers=4)\n",
    "val_loader = DataLoader(dsvalid, batch_size=8, shuffle=True, num_workers=4)"
   ]
  },
  {
   "cell_type": "code",
   "execution_count": 4,
   "id": "e365b2c7",
   "metadata": {
    "execution": {
     "iopub.execute_input": "2025-05-03T23:49:11.812615Z",
     "iopub.status.busy": "2025-05-03T23:49:11.812412Z",
     "iopub.status.idle": "2025-05-03T23:49:12.640489Z",
     "shell.execute_reply": "2025-05-03T23:49:12.639759Z"
    },
    "papermill": {
     "duration": 0.83244,
     "end_time": "2025-05-03T23:49:12.641896",
     "exception": false,
     "start_time": "2025-05-03T23:49:11.809456",
     "status": "completed"
    },
    "tags": []
   },
   "outputs": [
    {
     "name": "stdout",
     "output_type": "stream",
     "text": [
      "Batch input shape: torch.Size([8, 5, 1000, 70])\n",
      "Batch target shape: torch.Size([8, 1, 70, 70])\n"
     ]
    }
   ],
   "source": [
    "for X_batch, y_batch in train_loader:\n",
    "    print(\"Batch input shape:\", X_batch.shape)\n",
    "    print(\"Batch target shape:\", y_batch.shape)\n",
    "    break  # just check the first batch\n"
   ]
  },
  {
   "cell_type": "code",
   "execution_count": 5,
   "id": "edef7e44",
   "metadata": {
    "execution": {
     "iopub.execute_input": "2025-05-03T23:49:12.648836Z",
     "iopub.status.busy": "2025-05-03T23:49:12.648374Z",
     "iopub.status.idle": "2025-05-03T23:49:12.655685Z",
     "shell.execute_reply": "2025-05-03T23:49:12.655008Z"
    },
    "papermill": {
     "duration": 0.011945,
     "end_time": "2025-05-03T23:49:12.656783",
     "exception": false,
     "start_time": "2025-05-03T23:49:12.644838",
     "status": "completed"
    },
    "tags": []
   },
   "outputs": [],
   "source": [
    "class MLP(nn.Module):\n",
    "    \"\"\"Simple 2-layer MLP with GELU and dropout\"\"\"\n",
    "    def __init__(self, dim, hidden_dim, drop=0.):\n",
    "        super().__init__()\n",
    "        self.fc1   = nn.Linear(dim, hidden_dim)\n",
    "        self.act   = nn.GELU()\n",
    "        self.fc2   = nn.Linear(hidden_dim, dim)\n",
    "        self.drop  = nn.Dropout(drop)\n",
    "\n",
    "    def forward(self, x):\n",
    "        x = self.drop(self.act(self.fc1(x)))\n",
    "        x = self.drop(self.fc2(x))\n",
    "        return x\n",
    "\n",
    "class TransformerBlock(nn.Module):\n",
    "    \"\"\"\n",
    "    ViT-style encoder block\n",
    "    LayerNorm  →  Multi-Head Self-Attention  →  residual\n",
    "    LayerNorm  →  MLP                        →  residual\n",
    "    \"\"\"\n",
    "    def __init__(self, dim, num_heads, mlp_ratio=4., drop=0., attn_drop=0.):\n",
    "        super().__init__()\n",
    "        self.norm1 = nn.LayerNorm(dim)\n",
    "        self.attn  = nn.MultiheadAttention(\n",
    "            embed_dim=dim, num_heads=num_heads,\n",
    "            dropout=attn_drop, batch_first=True)\n",
    "        self.drop1 = nn.Dropout(drop)\n",
    "\n",
    "        self.norm2 = nn.LayerNorm(dim)\n",
    "        hidden_dim = int(dim * mlp_ratio)\n",
    "        self.mlp   = MLP(dim, hidden_dim, drop)\n",
    "\n",
    "    def forward(self, x):\n",
    "        # x shape: (B, N, D)\n",
    "        # --- self-attention ---\n",
    "        attn_out, _ = self.attn(self.norm1(x), self.norm1(x), self.norm1(x))\n",
    "        x = x + self.drop1(attn_out)\n",
    "\n",
    "        # --- feed-forward ---\n",
    "        x = x + self.mlp(self.norm2(x))\n",
    "        return x\n"
   ]
  },
  {
   "cell_type": "code",
   "execution_count": 6,
   "id": "2553f242",
   "metadata": {
    "execution": {
     "iopub.execute_input": "2025-05-03T23:49:12.663805Z",
     "iopub.status.busy": "2025-05-03T23:49:12.663410Z",
     "iopub.status.idle": "2025-05-03T23:49:12.671587Z",
     "shell.execute_reply": "2025-05-03T23:49:12.670903Z"
    },
    "papermill": {
     "duration": 0.013381,
     "end_time": "2025-05-03T23:49:12.672642",
     "exception": false,
     "start_time": "2025-05-03T23:49:12.659261",
     "status": "completed"
    },
    "tags": []
   },
   "outputs": [],
   "source": [
    "class SeismicViT(nn.Module):\n",
    "    def __init__(self,\n",
    "                 in_ch=5, patch=(25,5), embed_dim=256,\n",
    "                 depth=10, num_heads=8, mlp_ratio=4.,\n",
    "                 out_size=(70,70)):\n",
    "        super().__init__()\n",
    "\n",
    "        # 1) patchify\n",
    "        self.patch_embed = nn.Conv2d(in_ch, embed_dim,\n",
    "                                     kernel_size=patch, stride=patch) # B,embed_dim,40,14\n",
    "        num_patches = (1000 // patch[0]) * (70 // patch[1]) # 40 * 14 = 560\n",
    "        self.pos = nn.Parameter(torch.zeros(1, num_patches, embed_dim)) # (1, 560, 256)\n",
    "\n",
    "        # 2) Transformer encoder\n",
    "        self.blocks = nn.ModuleList([\n",
    "            TransformerBlock(embed_dim, num_heads, mlp_ratio)\n",
    "            for _ in range(depth)\n",
    "        ])\n",
    "        self.norm = nn.LayerNorm(embed_dim)\n",
    "\n",
    "        # 3) linear projector to patch-level velocity\n",
    "        self.head = nn.Linear(embed_dim, patch[0]*patch[1])\n",
    "\n",
    "        # 4) light decoder to 1000×70\n",
    "        self.up = nn.Sequential(\n",
    "            nn.ConvTranspose2d(1, 32, 4, 2, 1),  # 125→250\n",
    "            nn.LeakyReLU(0.2, inplace=True),\n",
    "            nn.ConvTranspose2d(32, 16, 4, 2, 1), # 250→500\n",
    "            nn.LeakyReLU(0.2, inplace=True),\n",
    "            nn.ConvTranspose2d(16,  1, 4, 2, 1), # 500→1000\n",
    "            nn.LeakyReLU(0.2, inplace=True),\n",
    "            nn.Conv2d(1, 1, kernel_size=3, padding=1)  # 1000×70 → 1000×70\n",
    "        )\n",
    "    def forward(self, x):                        # (B,5,1000,70)\n",
    "        x = self.patch_embed(x).flatten(2).permute(0,2,1)  # -> (B, 256, 560) -> (B, 560, 256)   # (batch, tokens, embed_dim)\n",
    "        x = x + self.pos  #(B, 560, 256) \n",
    "        for blk in self.blocks:\n",
    "            x = blk(x)\n",
    "        x = self.norm(x)\n",
    "        x = self.head(x)                         # (B,N,PatchArea) (B, 560, 125)\n",
    "        x = x.view(-1, 1, 1000, 70)             # (B,1,1000,70)\n",
    "        x = F.avg_pool2d(x, kernel_size=(8,1))   # 1000→125   keep 70 (B, 1, 125, 70)\n",
    "        assert x.shape[1:] == (1, 125, 70), f\"Expected (B,1,125,70) but got {x.shape}\"\n",
    "        x = self.up(x)                        # (B,1,1000,70)\n",
    "        return torch.tanh(F.interpolate(x, size=(70,70), mode='bilinear', align_corners=False)) # interpolate to (70*70)\n"
   ]
  },
  {
   "cell_type": "code",
   "execution_count": 7,
   "id": "37255faa",
   "metadata": {
    "execution": {
     "iopub.execute_input": "2025-05-03T23:49:12.678395Z",
     "iopub.status.busy": "2025-05-03T23:49:12.678193Z",
     "iopub.status.idle": "2025-05-04T01:27:19.779412Z",
     "shell.execute_reply": "2025-05-04T01:27:19.778304Z"
    },
    "papermill": {
     "duration": 5888.490597,
     "end_time": "2025-05-04T01:27:21.165744",
     "exception": false,
     "start_time": "2025-05-03T23:49:12.675147",
     "status": "completed"
    },
    "tags": []
   },
   "outputs": [
    {
     "name": "stdout",
     "output_type": "stream",
     "text": [
      "Using device: cuda\n"
     ]
    },
    {
     "name": "stderr",
     "output_type": "stream",
     "text": [
      "[Train] Epoch 1: 100%|██████████| 625/625 [01:25<00:00,  7.34it/s]\n"
     ]
    },
    {
     "name": "stdout",
     "output_type": "stream",
     "text": [
      "Epoch 1 | train 0.1954 | val 0.1586\n",
      "✅  New best model saved (val loss 0.1586)\n"
     ]
    },
    {
     "name": "stderr",
     "output_type": "stream",
     "text": [
      "[Train] Epoch 2: 100%|██████████| 625/625 [01:23<00:00,  7.50it/s]\n"
     ]
    },
    {
     "name": "stdout",
     "output_type": "stream",
     "text": [
      "Epoch 2 | train 0.1500 | val 0.1402\n",
      "✅  New best model saved (val loss 0.1402)\n"
     ]
    },
    {
     "name": "stderr",
     "output_type": "stream",
     "text": [
      "[Train] Epoch 3: 100%|██████████| 625/625 [01:23<00:00,  7.50it/s]\n"
     ]
    },
    {
     "name": "stdout",
     "output_type": "stream",
     "text": [
      "Epoch 3 | train 0.1377 | val 0.1362\n",
      "✅  New best model saved (val loss 0.1362)\n"
     ]
    },
    {
     "name": "stderr",
     "output_type": "stream",
     "text": [
      "[Train] Epoch 4: 100%|██████████| 625/625 [01:23<00:00,  7.50it/s]\n"
     ]
    },
    {
     "name": "stdout",
     "output_type": "stream",
     "text": [
      "Epoch 4 | train 0.1243 | val 0.1262\n",
      "✅  New best model saved (val loss 0.1262)\n"
     ]
    },
    {
     "name": "stderr",
     "output_type": "stream",
     "text": [
      "[Train] Epoch 5: 100%|██████████| 625/625 [01:23<00:00,  7.50it/s]\n"
     ]
    },
    {
     "name": "stdout",
     "output_type": "stream",
     "text": [
      "Epoch 5 | train 0.1161 | val 0.1169\n",
      "✅  New best model saved (val loss 0.1169)\n"
     ]
    },
    {
     "name": "stderr",
     "output_type": "stream",
     "text": [
      "[Train] Epoch 6: 100%|██████████| 625/625 [01:23<00:00,  7.48it/s]\n"
     ]
    },
    {
     "name": "stdout",
     "output_type": "stream",
     "text": [
      "Epoch 6 | train 0.1102 | val 0.1130\n",
      "✅  New best model saved (val loss 0.1130)\n"
     ]
    },
    {
     "name": "stderr",
     "output_type": "stream",
     "text": [
      "[Train] Epoch 7: 100%|██████████| 625/625 [01:23<00:00,  7.48it/s]\n"
     ]
    },
    {
     "name": "stdout",
     "output_type": "stream",
     "text": [
      "Epoch 7 | train 0.1045 | val 0.1082\n",
      "✅  New best model saved (val loss 0.1082)\n"
     ]
    },
    {
     "name": "stderr",
     "output_type": "stream",
     "text": [
      "[Train] Epoch 8: 100%|██████████| 625/625 [01:23<00:00,  7.48it/s]\n"
     ]
    },
    {
     "name": "stdout",
     "output_type": "stream",
     "text": [
      "Epoch 8 | train 0.1015 | val 0.1111\n"
     ]
    },
    {
     "name": "stderr",
     "output_type": "stream",
     "text": [
      "[Train] Epoch 9: 100%|██████████| 625/625 [01:23<00:00,  7.48it/s]\n"
     ]
    },
    {
     "name": "stdout",
     "output_type": "stream",
     "text": [
      "Epoch 9 | train 0.0980 | val 0.1119\n"
     ]
    },
    {
     "name": "stderr",
     "output_type": "stream",
     "text": [
      "[Train] Epoch 10: 100%|██████████| 625/625 [01:23<00:00,  7.48it/s]\n"
     ]
    },
    {
     "name": "stdout",
     "output_type": "stream",
     "text": [
      "Epoch 10 | train 0.0954 | val 0.0992\n",
      "✅  New best model saved (val loss 0.0992)\n"
     ]
    },
    {
     "name": "stderr",
     "output_type": "stream",
     "text": [
      "[Train] Epoch 11: 100%|██████████| 625/625 [01:23<00:00,  7.48it/s]\n"
     ]
    },
    {
     "name": "stdout",
     "output_type": "stream",
     "text": [
      "Epoch 11 | train 0.0931 | val 0.1017\n"
     ]
    },
    {
     "name": "stderr",
     "output_type": "stream",
     "text": [
      "[Train] Epoch 12: 100%|██████████| 625/625 [01:23<00:00,  7.48it/s]\n"
     ]
    },
    {
     "name": "stdout",
     "output_type": "stream",
     "text": [
      "Epoch 12 | train 0.0910 | val 0.1011\n"
     ]
    },
    {
     "name": "stderr",
     "output_type": "stream",
     "text": [
      "[Train] Epoch 13: 100%|██████████| 625/625 [01:23<00:00,  7.48it/s]\n"
     ]
    },
    {
     "name": "stdout",
     "output_type": "stream",
     "text": [
      "Epoch 13 | train 0.0891 | val 0.0985\n",
      "✅  New best model saved (val loss 0.0985)\n"
     ]
    },
    {
     "name": "stderr",
     "output_type": "stream",
     "text": [
      "[Train] Epoch 14: 100%|██████████| 625/625 [01:23<00:00,  7.46it/s]\n"
     ]
    },
    {
     "name": "stdout",
     "output_type": "stream",
     "text": [
      "Epoch 14 | train 0.0888 | val 0.0967\n",
      "✅  New best model saved (val loss 0.0967)\n"
     ]
    },
    {
     "name": "stderr",
     "output_type": "stream",
     "text": [
      "[Train] Epoch 15: 100%|██████████| 625/625 [01:23<00:00,  7.47it/s]\n"
     ]
    },
    {
     "name": "stdout",
     "output_type": "stream",
     "text": [
      "Epoch 15 | train 0.0873 | val 0.0955\n",
      "✅  New best model saved (val loss 0.0955)\n"
     ]
    },
    {
     "name": "stderr",
     "output_type": "stream",
     "text": [
      "[Train] Epoch 16: 100%|██████████| 625/625 [01:23<00:00,  7.46it/s]\n"
     ]
    },
    {
     "name": "stdout",
     "output_type": "stream",
     "text": [
      "Epoch 16 | train 0.0851 | val 0.0941\n",
      "✅  New best model saved (val loss 0.0941)\n"
     ]
    },
    {
     "name": "stderr",
     "output_type": "stream",
     "text": [
      "[Train] Epoch 17: 100%|██████████| 625/625 [01:23<00:00,  7.47it/s]\n"
     ]
    },
    {
     "name": "stdout",
     "output_type": "stream",
     "text": [
      "Epoch 17 | train 0.0835 | val 0.0945\n"
     ]
    },
    {
     "name": "stderr",
     "output_type": "stream",
     "text": [
      "[Train] Epoch 18: 100%|██████████| 625/625 [01:23<00:00,  7.47it/s]\n"
     ]
    },
    {
     "name": "stdout",
     "output_type": "stream",
     "text": [
      "Epoch 18 | train 0.0823 | val 0.0954\n"
     ]
    },
    {
     "name": "stderr",
     "output_type": "stream",
     "text": [
      "[Train] Epoch 19: 100%|██████████| 625/625 [01:23<00:00,  7.47it/s]\n"
     ]
    },
    {
     "name": "stdout",
     "output_type": "stream",
     "text": [
      "Epoch 19 | train 0.0812 | val 0.0918\n",
      "✅  New best model saved (val loss 0.0918)\n"
     ]
    },
    {
     "name": "stderr",
     "output_type": "stream",
     "text": [
      "[Train] Epoch 20: 100%|██████████| 625/625 [01:23<00:00,  7.47it/s]\n"
     ]
    },
    {
     "name": "stdout",
     "output_type": "stream",
     "text": [
      "Epoch 20 | train 0.0796 | val 0.0916\n",
      "✅  New best model saved (val loss 0.0916)\n"
     ]
    },
    {
     "name": "stderr",
     "output_type": "stream",
     "text": [
      "[Train] Epoch 21: 100%|██████████| 625/625 [01:23<00:00,  7.47it/s]\n"
     ]
    },
    {
     "name": "stdout",
     "output_type": "stream",
     "text": [
      "Epoch 21 | train 0.0796 | val 0.0937\n"
     ]
    },
    {
     "name": "stderr",
     "output_type": "stream",
     "text": [
      "[Train] Epoch 22: 100%|██████████| 625/625 [01:23<00:00,  7.47it/s]\n"
     ]
    },
    {
     "name": "stdout",
     "output_type": "stream",
     "text": [
      "Epoch 22 | train 0.0780 | val 0.0943\n"
     ]
    },
    {
     "name": "stderr",
     "output_type": "stream",
     "text": [
      "[Train] Epoch 23: 100%|██████████| 625/625 [01:23<00:00,  7.47it/s]\n"
     ]
    },
    {
     "name": "stdout",
     "output_type": "stream",
     "text": [
      "Epoch 23 | train 0.0768 | val 0.0928\n"
     ]
    },
    {
     "name": "stderr",
     "output_type": "stream",
     "text": [
      "[Train] Epoch 24: 100%|██████████| 625/625 [01:23<00:00,  7.47it/s]\n"
     ]
    },
    {
     "name": "stdout",
     "output_type": "stream",
     "text": [
      "Epoch 24 | train 0.0763 | val 0.0917\n"
     ]
    },
    {
     "name": "stderr",
     "output_type": "stream",
     "text": [
      "[Train] Epoch 25: 100%|██████████| 625/625 [01:23<00:00,  7.47it/s]\n"
     ]
    },
    {
     "name": "stdout",
     "output_type": "stream",
     "text": [
      "Epoch 25 | train 0.0759 | val 0.0921\n"
     ]
    },
    {
     "name": "stderr",
     "output_type": "stream",
     "text": [
      "[Train] Epoch 26: 100%|██████████| 625/625 [01:23<00:00,  7.46it/s]\n"
     ]
    },
    {
     "name": "stdout",
     "output_type": "stream",
     "text": [
      "Epoch 26 | train 0.0744 | val 0.0893\n",
      "✅  New best model saved (val loss 0.0893)\n"
     ]
    },
    {
     "name": "stderr",
     "output_type": "stream",
     "text": [
      "[Train] Epoch 27: 100%|██████████| 625/625 [01:23<00:00,  7.47it/s]\n"
     ]
    },
    {
     "name": "stdout",
     "output_type": "stream",
     "text": [
      "Epoch 27 | train 0.0735 | val 0.0902\n"
     ]
    },
    {
     "name": "stderr",
     "output_type": "stream",
     "text": [
      "[Train] Epoch 28: 100%|██████████| 625/625 [01:23<00:00,  7.48it/s]\n"
     ]
    },
    {
     "name": "stdout",
     "output_type": "stream",
     "text": [
      "Epoch 28 | train 0.0728 | val 0.0913\n"
     ]
    },
    {
     "name": "stderr",
     "output_type": "stream",
     "text": [
      "[Train] Epoch 29: 100%|██████████| 625/625 [01:23<00:00,  7.47it/s]\n"
     ]
    },
    {
     "name": "stdout",
     "output_type": "stream",
     "text": [
      "Epoch 29 | train 0.0723 | val 0.0922\n"
     ]
    },
    {
     "name": "stderr",
     "output_type": "stream",
     "text": [
      "[Train] Epoch 30: 100%|██████████| 625/625 [01:23<00:00,  7.47it/s]\n"
     ]
    },
    {
     "name": "stdout",
     "output_type": "stream",
     "text": [
      "Epoch 30 | train 0.0714 | val 0.0893\n",
      "✅  New best model saved (val loss 0.0893)\n"
     ]
    },
    {
     "name": "stderr",
     "output_type": "stream",
     "text": [
      "[Train] Epoch 31: 100%|██████████| 625/625 [01:23<00:00,  7.47it/s]\n"
     ]
    },
    {
     "name": "stdout",
     "output_type": "stream",
     "text": [
      "Epoch 31 | train 0.0705 | val 0.0874\n",
      "✅  New best model saved (val loss 0.0874)\n"
     ]
    },
    {
     "name": "stderr",
     "output_type": "stream",
     "text": [
      "[Train] Epoch 32: 100%|██████████| 625/625 [01:23<00:00,  7.47it/s]\n"
     ]
    },
    {
     "name": "stdout",
     "output_type": "stream",
     "text": [
      "Epoch 32 | train 0.0695 | val 0.0909\n"
     ]
    },
    {
     "name": "stderr",
     "output_type": "stream",
     "text": [
      "[Train] Epoch 33: 100%|██████████| 625/625 [01:23<00:00,  7.47it/s]\n"
     ]
    },
    {
     "name": "stdout",
     "output_type": "stream",
     "text": [
      "Epoch 33 | train 0.0693 | val 0.0875\n"
     ]
    },
    {
     "name": "stderr",
     "output_type": "stream",
     "text": [
      "[Train] Epoch 34: 100%|██████████| 625/625 [01:23<00:00,  7.46it/s]\n"
     ]
    },
    {
     "name": "stdout",
     "output_type": "stream",
     "text": [
      "Epoch 34 | train 0.0686 | val 0.0883\n"
     ]
    },
    {
     "name": "stderr",
     "output_type": "stream",
     "text": [
      "[Train] Epoch 35: 100%|██████████| 625/625 [01:23<00:00,  7.46it/s]\n"
     ]
    },
    {
     "name": "stdout",
     "output_type": "stream",
     "text": [
      "Epoch 35 | train 0.0672 | val 0.0873\n",
      "✅  New best model saved (val loss 0.0873)\n"
     ]
    },
    {
     "name": "stderr",
     "output_type": "stream",
     "text": [
      "[Train] Epoch 36: 100%|██████████| 625/625 [01:23<00:00,  7.47it/s]\n"
     ]
    },
    {
     "name": "stdout",
     "output_type": "stream",
     "text": [
      "Epoch 36 | train 0.0666 | val 0.0885\n"
     ]
    },
    {
     "name": "stderr",
     "output_type": "stream",
     "text": [
      "[Train] Epoch 37: 100%|██████████| 625/625 [01:23<00:00,  7.46it/s]\n"
     ]
    },
    {
     "name": "stdout",
     "output_type": "stream",
     "text": [
      "Epoch 37 | train 0.0659 | val 0.0862\n",
      "✅  New best model saved (val loss 0.0862)\n"
     ]
    },
    {
     "name": "stderr",
     "output_type": "stream",
     "text": [
      "[Train] Epoch 38: 100%|██████████| 625/625 [01:23<00:00,  7.45it/s]\n"
     ]
    },
    {
     "name": "stdout",
     "output_type": "stream",
     "text": [
      "Epoch 38 | train 0.0656 | val 0.0851\n",
      "✅  New best model saved (val loss 0.0851)\n"
     ]
    },
    {
     "name": "stderr",
     "output_type": "stream",
     "text": [
      "[Train] Epoch 39: 100%|██████████| 625/625 [01:23<00:00,  7.45it/s]\n"
     ]
    },
    {
     "name": "stdout",
     "output_type": "stream",
     "text": [
      "Epoch 39 | train 0.0641 | val 0.0853\n"
     ]
    },
    {
     "name": "stderr",
     "output_type": "stream",
     "text": [
      "[Train] Epoch 40: 100%|██████████| 625/625 [01:23<00:00,  7.46it/s]\n"
     ]
    },
    {
     "name": "stdout",
     "output_type": "stream",
     "text": [
      "Epoch 40 | train 0.0635 | val 0.0937\n"
     ]
    },
    {
     "name": "stderr",
     "output_type": "stream",
     "text": [
      "[Train] Epoch 41: 100%|██████████| 625/625 [01:23<00:00,  7.48it/s]\n"
     ]
    },
    {
     "name": "stdout",
     "output_type": "stream",
     "text": [
      "Epoch 41 | train 0.0628 | val 0.0889\n"
     ]
    },
    {
     "name": "stderr",
     "output_type": "stream",
     "text": [
      "[Train] Epoch 42: 100%|██████████| 625/625 [01:23<00:00,  7.46it/s]\n"
     ]
    },
    {
     "name": "stdout",
     "output_type": "stream",
     "text": [
      "Epoch 42 | train 0.0619 | val 0.0868\n"
     ]
    },
    {
     "name": "stderr",
     "output_type": "stream",
     "text": [
      "[Train] Epoch 43: 100%|██████████| 625/625 [01:23<00:00,  7.47it/s]\n"
     ]
    },
    {
     "name": "stdout",
     "output_type": "stream",
     "text": [
      "Epoch 43 | train 0.0609 | val 0.0836\n",
      "✅  New best model saved (val loss 0.0836)\n"
     ]
    },
    {
     "name": "stderr",
     "output_type": "stream",
     "text": [
      "[Train] Epoch 44: 100%|██████████| 625/625 [01:23<00:00,  7.44it/s]\n"
     ]
    },
    {
     "name": "stdout",
     "output_type": "stream",
     "text": [
      "Epoch 44 | train 0.0599 | val 0.0841\n"
     ]
    },
    {
     "name": "stderr",
     "output_type": "stream",
     "text": [
      "[Train] Epoch 45: 100%|██████████| 625/625 [01:23<00:00,  7.47it/s]\n"
     ]
    },
    {
     "name": "stdout",
     "output_type": "stream",
     "text": [
      "Epoch 45 | train 0.0592 | val 0.0845\n"
     ]
    },
    {
     "name": "stderr",
     "output_type": "stream",
     "text": [
      "[Train] Epoch 46: 100%|██████████| 625/625 [01:23<00:00,  7.48it/s]\n"
     ]
    },
    {
     "name": "stdout",
     "output_type": "stream",
     "text": [
      "Epoch 46 | train 0.0584 | val 0.0849\n"
     ]
    },
    {
     "name": "stderr",
     "output_type": "stream",
     "text": [
      "[Train] Epoch 47: 100%|██████████| 625/625 [01:23<00:00,  7.47it/s]\n"
     ]
    },
    {
     "name": "stdout",
     "output_type": "stream",
     "text": [
      "Epoch 47 | train 0.0580 | val 0.0833\n",
      "✅  New best model saved (val loss 0.0833)\n"
     ]
    },
    {
     "name": "stderr",
     "output_type": "stream",
     "text": [
      "[Train] Epoch 48: 100%|██████████| 625/625 [01:23<00:00,  7.46it/s]\n"
     ]
    },
    {
     "name": "stdout",
     "output_type": "stream",
     "text": [
      "Epoch 48 | train 0.0566 | val 0.0824\n",
      "✅  New best model saved (val loss 0.0824)\n"
     ]
    },
    {
     "name": "stderr",
     "output_type": "stream",
     "text": [
      "[Train] Epoch 49: 100%|██████████| 625/625 [01:23<00:00,  7.47it/s]\n"
     ]
    },
    {
     "name": "stdout",
     "output_type": "stream",
     "text": [
      "Epoch 49 | train 0.0556 | val 0.0825\n"
     ]
    },
    {
     "name": "stderr",
     "output_type": "stream",
     "text": [
      "[Train] Epoch 50: 100%|██████████| 625/625 [01:23<00:00,  7.47it/s]\n"
     ]
    },
    {
     "name": "stdout",
     "output_type": "stream",
     "text": [
      "Epoch 50 | train 0.0548 | val 0.0840\n"
     ]
    }
   ],
   "source": [
    "device = torch.device('cuda' if torch.cuda.is_available() else 'cpu')\n",
    "print('Using device:', device)\n",
    "\n",
    "model = SeismicViT().to(device)\n",
    "optimizer = torch.optim.Adam(model.parameters(), lr=3e-4)\n",
    "loss_fn = nn.MSELoss()\n",
    "\n",
    "epochs = 50\n",
    "\n",
    "best_val_loss = float('inf')\n",
    "\n",
    "train_losses, val_losses = [], []\n",
    "\n",
    "for epoch in range(epochs):\n",
    "    # ── 1. TRAIN ───────────────────────────────────────────────────────\n",
    "    model.train()\n",
    "    running_loss = 0.0\n",
    "    for xb, yb in tqdm(train_loader, desc=f\"[Train] Epoch {epoch+1}\"):\n",
    "        xb, yb = xb.to(device), yb.to(device).squeeze(1)\n",
    "        optimizer.zero_grad()\n",
    "        preds = model(xb).squeeze(1)\n",
    "        loss  = loss_fn(preds, yb)\n",
    "        loss.backward()\n",
    "        optimizer.step()\n",
    "        running_loss += loss.item()\n",
    "\n",
    "    train_loss = running_loss / len(train_loader)\n",
    "    train_losses.append(train_loss) \n",
    "\n",
    "    # ── 2. VALIDATE ────────────────────────────────────────────────────\n",
    "    model.eval()\n",
    "    val_loss = 0.0\n",
    "    with torch.no_grad():\n",
    "        for xb, yb in val_loader:\n",
    "            xb, yb = xb.to(device), yb.to(device).squeeze(1)\n",
    "            preds  = model(xb).squeeze(1)\n",
    "            val_loss += loss_fn(preds, yb).item()\n",
    "\n",
    "    val_loss /= len(val_loader)\n",
    "    val_losses.append(val_loss) \n",
    "    \n",
    "    print(f\"Epoch {epoch+1} | train {train_loss:.4f} | val {val_loss:.4f}\")\n",
    "\n",
    "    # ── 3. CHECKPOINT ON VAL LOSS ─────────────────────────────────────\n",
    "    if val_loss < best_val_loss:\n",
    "        best_val_loss = val_loss\n",
    "        torch.save(model.state_dict(), '/kaggle/working/best_model.pth')\n",
    "        print(f\"✅  New best model saved (val loss {best_val_loss:.4f})\")"
   ]
  },
  {
   "cell_type": "code",
   "execution_count": 8,
   "id": "1691cc3e",
   "metadata": {
    "execution": {
     "iopub.execute_input": "2025-05-04T01:27:23.691660Z",
     "iopub.status.busy": "2025-05-04T01:27:23.690638Z",
     "iopub.status.idle": "2025-05-04T01:27:23.955063Z",
     "shell.execute_reply": "2025-05-04T01:27:23.954434Z"
    },
    "papermill": {
     "duration": 1.56595,
     "end_time": "2025-05-04T01:27:23.956458",
     "exception": false,
     "start_time": "2025-05-04T01:27:22.390508",
     "status": "completed"
    },
    "tags": []
   },
   "outputs": [
    {
     "data": {
      "image/png": "[encoded data removed]",
      "text/plain": [
       "<Figure size 600x400 with 1 Axes>"
      ]
     },
     "metadata": {},
     "output_type": "display_data"
    }
   ],
   "source": [
    "plt.figure(figsize=(6,4))\n",
    "plt.plot(range(1, epochs+1), train_losses, label='Train')\n",
    "plt.plot(range(1, epochs+1), val_losses,   label='Validation')\n",
    "plt.xlabel('Epoch')\n",
    "plt.ylabel('MSE Loss')\n",
    "plt.title('Training vs. Validation Loss')\n",
    "plt.legend()\n",
    "plt.grid(True)\n",
    "plt.tight_layout()\n",
    "plt.show()"
   ]
  },
  {
   "cell_type": "code",
   "execution_count": 9,
   "id": "40f87c4a",
   "metadata": {
    "execution": {
     "iopub.execute_input": "2025-05-04T01:27:26.720833Z",
     "iopub.status.busy": "2025-05-04T01:27:26.720134Z",
     "iopub.status.idle": "2025-05-04T01:27:27.571299Z",
     "shell.execute_reply": "2025-05-04T01:27:27.570649Z"
    },
    "papermill": {
     "duration": 2.291647,
     "end_time": "2025-05-04T01:27:27.572320",
     "exception": false,
     "start_time": "2025-05-04T01:27:25.280673",
     "status": "completed"
    },
    "tags": []
   },
   "outputs": [
    {
     "name": "stdout",
     "output_type": "stream",
     "text": [
      "CPU times: user 292 ms, sys: 59.3 ms, total: 352 ms\n",
      "Wall time: 845 ms\n"
     ]
    },
    {
     "data": {
      "text/plain": [
       "65818"
      ]
     },
     "execution_count": 9,
     "metadata": {},
     "output_type": "execute_result"
    }
   ],
   "source": [
    "%%time\n",
    "test_files = list(Path('/kaggle/input/waveform-inversion/test').glob('*.npy'))\n",
    "len(test_files)"
   ]
  },
  {
   "cell_type": "code",
   "execution_count": 10,
   "id": "e03ae619",
   "metadata": {
    "execution": {
     "iopub.execute_input": "2025-05-04T01:27:30.103231Z",
     "iopub.status.busy": "2025-05-04T01:27:30.102921Z",
     "iopub.status.idle": "2025-05-04T01:27:30.108097Z",
     "shell.execute_reply": "2025-05-04T01:27:30.107523Z"
    },
    "papermill": {
     "duration": 1.293074,
     "end_time": "2025-05-04T01:27:30.109148",
     "exception": false,
     "start_time": "2025-05-04T01:27:28.816074",
     "status": "completed"
    },
    "tags": []
   },
   "outputs": [],
   "source": [
    "x_cols = [f'x_{i}' for i in range(1, 70, 2)]\n",
    "fieldnames = ['oid_ypos'] + x_cols\n",
    "class TestDataset(Dataset):\n",
    "    def __init__(self, test_files):\n",
    "        self.test_files = test_files\n",
    "\n",
    "\n",
    "    def __len__(self):\n",
    "        return len(self.test_files)\n",
    "\n",
    "\n",
    "    def __getitem__(self, i):\n",
    "        test_file = self.test_files[i]\n",
    "\n",
    "        return np.load(test_file), test_file.stem\n",
    "\n",
    "ds = TestDataset(test_files)\n",
    "dl = DataLoader(ds, batch_size=8, num_workers=4, pin_memory=True)"
   ]
  },
  {
   "cell_type": "code",
   "execution_count": 11,
   "id": "70479a82",
   "metadata": {
    "execution": {
     "iopub.execute_input": "2025-05-04T01:27:32.780342Z",
     "iopub.status.busy": "2025-05-04T01:27:32.780055Z",
     "iopub.status.idle": "2025-05-04T01:37:03.479653Z",
     "shell.execute_reply": "2025-05-04T01:37:03.478696Z"
    },
    "papermill": {
     "duration": 572.081926,
     "end_time": "2025-05-04T01:37:03.483309",
     "exception": false,
     "start_time": "2025-05-04T01:27:31.401383",
     "status": "completed"
    },
    "tags": []
   },
   "outputs": [
    {
     "name": "stderr",
     "output_type": "stream",
     "text": [
      "test: 100%|██████████| 8228/8228 [09:30<00:00, 14.42it/s]\n"
     ]
    }
   ],
   "source": [
    "PATH = \"/kaggle/working/best_model.pth\" \n",
    "model.eval()\n",
    "model.load_state_dict(torch.load(PATH, weights_only=True))\n",
    "\n",
    "with open('submission.csv', 'wt', newline='') as csvfile:\n",
    "    writer = csv.DictWriter(csvfile, fieldnames=fieldnames)\n",
    "    writer.writeheader()\n",
    "    \n",
    "    for inputs, oids_test in tqdm(dl, desc='test'):\n",
    "        inputs = inputs.to(device)\n",
    "        with torch.inference_mode():\n",
    "            outputs = model(inputs)\n",
    "            \n",
    "        preds_norm = outputs[:, 0]\n",
    "        preds_true = 0.5 * (preds_norm + 1.0) * (label_max - label_min) + label_min\n",
    "        y_preds    = preds_true.cpu().numpy()\n",
    "        \n",
    "        for y_pred, oid_test in zip(y_preds, oids_test):\n",
    "            for y_pos in range(70):\n",
    "                row = dict(\n",
    "                    zip(\n",
    "                        x_cols,\n",
    "                        [y_pred[y_pos, x_pos] for x_pos in range(1, 70, 2)]\n",
    "                    )\n",
    "                )\n",
    "                row['oid_ypos'] = f\"{oid_test}_y_{y_pos}\"\n",
    "            \n",
    "                writer.writerow(row)"
   ]
  },
  {
   "cell_type": "code",
   "execution_count": null,
   "id": "fc3d38a9",
   "metadata": {
    "papermill": {
     "duration": 1.48738,
     "end_time": "2025-05-04T01:37:06.549805",
     "exception": false,
     "start_time": "2025-05-04T01:37:05.062425",
     "status": "completed"
    },
    "tags": []
   },
   "outputs": [],
   "source": []
  }
 ],
 "metadata": {
  "kaggle": {
   "accelerator": "gpu",
   "dataSources": [
    {
     "databundleVersionId": 11756775,
     "sourceId": 39763,
     "sourceType": "competition"
    }
   ],
   "dockerImageVersionId": 31012,
   "isGpuEnabled": true,
   "isInternetEnabled": true,
   "language": "python",
   "sourceType": "notebook"
  },
  "kernelspec": {
   "display_name": "Python 3",
   "language": "python",
   "name": "python3"
  },
  "language_info": {
   "codemirror_mode": {
    "name": "ipython",
    "version": 3
   },
   "file_extension": ".py",
   "mimetype": "text/x-python",
   "name": "python",
   "nbconvert_exporter": "python",
   "pygments_lexer": "ipython3",
   "version": "3.11.11"
  },
  "papermill": {
   "default_parameters": {},
   "duration": 6489.859966,
   "end_time": "2025-05-04T01:37:11.464992",
   "environment_variables": {},
   "exception": null,
   "input_path": "__notebook__.ipynb",
   "output_path": "__notebook__.ipynb",
   "parameters": {},
   "start_time": "2025-05-03T23:49:01.605026",
   "version": "2.6.0"
  }
 },
 "nbformat": 4,
 "nbformat_minor": 5
}
